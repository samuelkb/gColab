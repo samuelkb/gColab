{
 "cells": [
  {
   "cell_type": "markdown",
   "metadata": {},
   "source": [
    "# Introduction to neural networks"
   ]
  },
  {
   "cell_type": "markdown",
   "metadata": {},
   "source": [
    "What is deep learning?\n",
    "What is it used for? Pretty much everywhere, such as being humans in games such as Go, jeopardy, detecting spam in emails, forecasting stock prices, recognizing images in a picture, diagnosing illnesses sometimes with more precision than doctors, and the most celebrated applications of deep learning is in self-driving cars. \n",
    "\n",
    "At the heart of deep learning? Neural networks.\n",
    "\n",
    "Neural networks mimic the process of how the brain operates. Given some data in the form of blue or red points, the neural networks will look for the best line that separates / classifies them."
   ]
  }
 ],
 "metadata": {
  "kernelspec": {
   "display_name": "Python 3",
   "language": "python",
   "name": "python3"
  },
  "language_info": {
   "codemirror_mode": {
    "name": "ipython",
    "version": 3
   },
   "file_extension": ".py",
   "mimetype": "text/x-python",
   "name": "python",
   "nbconvert_exporter": "python",
   "pygments_lexer": "ipython3",
   "version": "3.8.5"
  }
 },
 "nbformat": 4,
 "nbformat_minor": 4
}
